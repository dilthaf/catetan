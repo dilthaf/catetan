{
  "nbformat": 4,
  "nbformat_minor": 0,
  "metadata": {
    "colab": {
      "provenance": [],
      "authorship_tag": "ABX9TyPjUuproK3VohsW0w0x+iEw",
      "include_colab_link": true
    },
    "kernelspec": {
      "name": "python3",
      "display_name": "Python 3"
    },
    "language_info": {
      "name": "python"
    }
  },
  "cells": [
    {
      "cell_type": "markdown",
      "metadata": {
        "id": "view-in-github",
        "colab_type": "text"
      },
      "source": [
        "<a href=\"https://colab.research.google.com/github/dilthaf/catetan/blob/master/Untitled3.ipynb\" target=\"_parent\"><img src=\"https://colab.research.google.com/assets/colab-badge.svg\" alt=\"Open In Colab\"/></a>"
      ]
    },
    {
      "cell_type": "code",
      "execution_count": 1,
      "metadata": {
        "colab": {
          "base_uri": "https://localhost:8080/"
        },
        "id": "v42paV4iFd5S",
        "outputId": "ddfb254e-d06c-403d-c953-0363a7668db4"
      },
      "outputs": [
        {
          "output_type": "execute_result",
          "data": {
            "text/plain": [
              "(15.566666666666666, 15.5, 36.312222222222225, 6.02596234822474)"
            ]
          },
          "metadata": {},
          "execution_count": 1
        }
      ],
      "source": [
        "import numpy as np\n",
        "# Data extracted from the image\n",
        "data = np.array([\n",
        "    [24, 13, 13, 15, 8, 8],\n",
        "    [15, 20, 17, 12, 6, 19],\n",
        "    [27, 19, 6, 16, 13, 11],\n",
        "    [10, 16, 17, 11, 17, 11],\n",
        "    [20, 33, 18, 16, 12, 24]\n",
        "])\n",
        "# Calculate statistical values\n",
        "mean_value = np.mean(data)\n",
        "median_value = np.median(data)\n",
        "variance_value = np.var(data, ddof=0)  # Population variance\n",
        "std_dev_value = np.std(data, ddof=0)   # Population standard deviation\n",
        "mean_value, median_value, variance_value, std_dev_value"
      ]
    }
  ]
}